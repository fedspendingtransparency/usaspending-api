{
 "cells": [
  {
   "cell_type": "code",
   "execution_count": null,
   "id": "b927e58c",
   "metadata": {
    "ExecuteTime": {
     "end_time": "2025-01-23T21:34:05.892243Z",
     "start_time": "2025-01-23T21:34:05.662687Z"
    },
    "collapsed": false,
    "jupyter": {
     "outputs_hidden": false
    },
    "pycharm": {
     "name": "#%%\n"
    }
   },
   "outputs": [],
   "source": [
    "import os\n",
    "import uuid\n",
    "\n",
    "import pandas as pd\n",
    "import sqlalchemy as sa\n",
    "from delta import configure_spark_with_delta_pip\n",
    "from dotenv import load_dotenv\n",
    "from pyspark.sql import SparkSession, types\n",
    "from tqdm.notebook import tqdm"
   ]
  },
  {
   "cell_type": "code",
   "execution_count": null,
   "id": "bfe4a38f",
   "metadata": {
    "collapsed": false,
    "jupyter": {
     "outputs_hidden": false
    },
    "pycharm": {
     "name": "#%%\n"
    }
   },
   "outputs": [],
   "source": [
    "load_dotenv()"
   ]
  },
  {
   "cell_type": "markdown",
   "id": "6940b529",
   "metadata": {
    "collapsed": false,
    "jupyter": {
     "outputs_hidden": false
    },
    "pycharm": {
     "name": "#%% md\n"
    }
   },
   "source": [
    "## Configure spark"
   ]
  },
  {
   "cell_type": "code",
   "execution_count": null,
   "id": "84d8039e",
   "metadata": {
    "collapsed": false,
    "jupyter": {
     "outputs_hidden": false
    },
    "pycharm": {
     "name": "#%%\n"
    }
   },
   "outputs": [],
   "source": [
    "builder = (\n",
    "    SparkSession.builder.appName(\"DeltaTableMigration\")\n",
    "    .config(\"spark.driver.memory\", \"4g\")\n",
    "    .config(\"spark.executor.memory\", \"4g\")\n",
    "    .config(\"spark.executor.cores\", \"2\")\n",
    "    .config(\"spark.sql.extensions\", \"io.delta.sql.DeltaSparkSessionExtension\")\n",
    "    .config(\"spark.sql.catalog.spark_catalog\", \"org.apache.spark.sql.delta.catalog.DeltaCatalog\")\n",
    "    .config(\"spark.hadoop.fs.s3a.endpoint\", \"http://minio:10001\")\n",
    "    .config(\"spark.hadoop.fs.s3a.path.style.access\", \"true\")\n",
    "    .config(\"spark.hadoop.hs.s3a.connection.ssl.enabled\", \"false\")\n",
    "    .config(\"spark.hadoop.fs.s3a.impl\", \"org.apache.hadoop.fs.s3a.S3AFileSystem\")\n",
    "    \n",
    ")\n",
    "spark = configure_spark_with_delta_pip(builder).getOrCreate()"
   ]
  },
  {
   "cell_type": "markdown",
   "id": "4cc3b80a-8308-45ca-9776-1d6af8665ecf",
   "metadata": {},
   "source": [
    "## Create Database Connection"
   ]
  },
  {
   "cell_type": "code",
   "execution_count": null,
   "id": "4563c6ff-d995-419c-805f-d489efc9266a",
   "metadata": {},
   "outputs": [],
   "source": [
    "db_user = os.environ[\"DB_USER\"]\n",
    "db_password = os.environ[\"DB_PASSWORD\"]\n",
    "db_host = os.environ[\"DB_HOST\"]\n",
    "db_name = os.environ[\"DB_NAME\"]"
   ]
  },
  {
   "cell_type": "code",
   "execution_count": null,
   "id": "9d9e5f04",
   "metadata": {
    "collapsed": false,
    "jupyter": {
     "outputs_hidden": false
    },
    "pycharm": {
     "name": "#%%\n"
    }
   },
   "outputs": [],
   "source": [
    "engine = sa.create_engine(f\"postgresql://{db_user}:{db_password}@{db_host}/{db_name}\")"
   ]
  },
  {
   "cell_type": "markdown",
   "id": "6e6514b4-e2e1-4087-80fc-7042d7c6c9b0",
   "metadata": {},
   "source": [
    "## Read a single table into a dataframe then then write to delta table"
   ]
  },
  {
   "cell_type": "code",
   "execution_count": null,
   "id": "11c609ce-5eb1-405a-adbb-b806bea687cd",
   "metadata": {},
   "outputs": [],
   "source": [
    "schema = \"public\"\n",
    "table = \"state_data\"\n",
    "first_chunk = True\n",
    "for chunk in pd.read_sql(f\"select * from {schema}.{table}\", engine, chunksize=50000):\n",
    "    if not chunk.empty:\n",
    "        spark_df = spark.createDataFrame(chunk.astype(str))\n",
    "        mode = \"overwrite\" if first_chunk else \"append\"\n",
    "        spark_df.write.format(\"delta\").mode(mode).save(f\"s3a://data/data/delta/{schema}/{table}\")\n",
    "        first_chunk = False"
   ]
  }
 ],
 "metadata": {
  "kernelspec": {
   "display_name": "Python 3 (ipykernel)",
   "language": "python",
   "name": "python3"
  },
  "language_info": {
   "codemirror_mode": {
    "name": "ipython",
    "version": 3
   },
   "file_extension": ".py",
   "mimetype": "text/x-python",
   "name": "python",
   "nbconvert_exporter": "python",
   "pygments_lexer": "ipython3",
   "version": "3.11.10"
  }
 },
 "nbformat": 4,
 "nbformat_minor": 5
}
