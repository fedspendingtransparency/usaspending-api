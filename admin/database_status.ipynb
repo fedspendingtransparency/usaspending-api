{
 "cells": [
  {
   "cell_type": "markdown",
   "metadata": {},
   "source": [
    "# Setup"
   ]
  },
  {
   "cell_type": "code",
   "execution_count": null,
   "metadata": {
    "collapsed": false
   },
   "outputs": [],
   "source": [
    "%load_ext sql"
   ]
  },
  {
   "cell_type": "code",
   "execution_count": null,
   "metadata": {
    "collapsed": true
   },
   "outputs": [],
   "source": [
    "from IPython.core.display import HTML"
   ]
  },
  {
   "cell_type": "code",
   "execution_count": null,
   "metadata": {
    "collapsed": false
   },
   "outputs": [],
   "source": [
    "%sql $STG_DATABASE_URL"
   ]
  },
  {
   "cell_type": "markdown",
   "metadata": {},
   "source": [
    "(ipython-sql 0.3.8 doesn't support environment variables, use the one from github)"
   ]
  },
  {
   "cell_type": "code",
   "execution_count": null,
   "metadata": {
    "collapsed": false
   },
   "outputs": [],
   "source": [
    "!git clone https://github.com/pgexperts/pgx_scripts"
   ]
  },
  {
   "cell_type": "markdown",
   "metadata": {},
   "source": [
    "# Server"
   ]
  },
  {
   "cell_type": "markdown",
   "metadata": {},
   "source": [
    "### Version"
   ]
  },
  {
   "cell_type": "code",
   "execution_count": null,
   "metadata": {
    "collapsed": false
   },
   "outputs": [],
   "source": [
    "%sql SELECT version()"
   ]
  },
  {
   "cell_type": "markdown",
   "metadata": {},
   "source": [
    "### Extensions"
   ]
  },
  {
   "cell_type": "code",
   "execution_count": null,
   "metadata": {
    "collapsed": false
   },
   "outputs": [],
   "source": [
    "%sql SELECT * FROM pg_extension;"
   ]
  },
  {
   "cell_type": "markdown",
   "metadata": {},
   "source": [
    "### Log"
   ]
  },
  {
   "cell_type": "code",
   "execution_count": null,
   "metadata": {
    "collapsed": false
   },
   "outputs": [],
   "source": [
    "%sql SHOW log_destination  -- not helpful!"
   ]
  },
  {
   "cell_type": "markdown",
   "metadata": {},
   "source": [
    "http://docs.aws.amazon.com/AmazonRDS/latest/UserGuide/USER_LogAccess.html"
   ]
  },
  {
   "cell_type": "markdown",
   "metadata": {},
   "source": [
    "## Vacuum"
   ]
  },
  {
   "cell_type": "code",
   "execution_count": null,
   "metadata": {
    "collapsed": false
   },
   "outputs": [],
   "source": [
    "%sql show autovacuum"
   ]
  },
  {
   "cell_type": "markdown",
   "metadata": {},
   "source": [
    "### Last vacuum"
   ]
  },
  {
   "cell_type": "code",
   "execution_count": null,
   "metadata": {
    "collapsed": false
   },
   "outputs": [],
   "source": [
    "result =! psql -H -f pgx_scripts/vacuum/last_autovacuum.sql $DATABASE_URL\n",
    "HTML(result.s)"
   ]
  },
  {
   "cell_type": "markdown",
   "metadata": {},
   "source": [
    "## Statistics freshness"
   ]
  },
  {
   "cell_type": "code",
   "execution_count": null,
   "metadata": {
    "collapsed": false
   },
   "outputs": [],
   "source": [
    "%%sql \n",
    "SELECT \n",
    "       relname,\n",
    "       last_vacuum,\n",
    "       last_autovacuum,\n",
    "       last_analyze,\n",
    "       last_autoanalyze\n",
    "FROM   pg_stat_all_tables\n",
    "WHERE  schemaname = 'public'"
   ]
  },
  {
   "cell_type": "markdown",
   "metadata": {},
   "source": [
    "# Tuning-relevant parameters\n",
    "\n",
    "`shared_buffers` set in Parameter Groups>default.postgres9.4 to `{DBInstanceClassMemory/32768}` "
   ]
  },
  {
   "cell_type": "code",
   "execution_count": null,
   "metadata": {
    "collapsed": false
   },
   "outputs": [],
   "source": [
    "%%sql\n",
    "SELECT name, source, unit,\n",
    "       pg_size_pretty(setting::numeric * 1024 * 8)  -- b/c 8 kB units\n",
    "FROM pg_settings\n",
    "WHERE name IN ('shared_buffers', 'effective_cache_size')\n",
    "ORDER by 1;"
   ]
  },
  {
   "cell_type": "markdown",
   "metadata": {},
   "source": [
    "\n",
    "\n",
    "https://www.postgresql.org/docs/9.4/static/runtime-config-resource.html\n",
    "\n",
    "> If you have a dedicated database server with 1GB or more of RAM, a reasonable starting value for shared_buffers is 25% of the memory in your system.\n",
    "\n",
    "https://wiki.postgresql.org/wiki/Tuning_Your_PostgreSQL_Server\n",
    "\n",
    "> Setting effective_cache_size to 1/2 of total memory would be a normal conservative setting, and 3/4 of memory is a more aggressive but still reasonable amount. "
   ]
  },
  {
   "cell_type": "code",
   "execution_count": null,
   "metadata": {
    "collapsed": false
   },
   "outputs": [],
   "source": [
    "%%sql\n",
    "SELECT name, source, unit,\n",
    "       pg_size_pretty(setting::numeric * 1024 * 1)  -- b/c 1 kB units\n",
    "FROM pg_settings\n",
    "WHERE name IN ('work_mem' )\n",
    "ORDER by 1;"
   ]
  },
  {
   "cell_type": "markdown",
   "metadata": {},
   "source": [
    "https://wiki.postgresql.org/wiki/Tuning_Your_PostgreSQL_Server\n",
    "\n",
    "> This size is applied to each and every sort done by each user"
   ]
  },
  {
   "cell_type": "markdown",
   "metadata": {},
   "source": [
    "# Parameters"
   ]
  },
  {
   "cell_type": "markdown",
   "metadata": {},
   "source": [
    "## Non-default parameters"
   ]
  },
  {
   "cell_type": "code",
   "execution_count": null,
   "metadata": {
    "collapsed": false
   },
   "outputs": [],
   "source": [
    "%%sql\n",
    "SELECT name, source, setting FROM pg_settings WHERE source != 'default'AND source != 'override'ORDER by 2, 1;"
   ]
  },
  {
   "cell_type": "markdown",
   "metadata": {},
   "source": [
    "### Disk use"
   ]
  },
  {
   "cell_type": "code",
   "execution_count": null,
   "metadata": {
    "collapsed": false
   },
   "outputs": [],
   "source": [
    "%sql SELECT pg_size_pretty(pg_database_size(current_database()))"
   ]
  },
  {
   "cell_type": "markdown",
   "metadata": {},
   "source": [
    "#### Biggest tables\n",
    "\n",
    "[source: PostgreSQL wiki](https://wiki.postgresql.org/wiki/Disk_Usage)"
   ]
  },
  {
   "cell_type": "code",
   "execution_count": null,
   "metadata": {
    "collapsed": false
   },
   "outputs": [],
   "source": [
    "%%sql\n",
    "SELECT nspname || '.' || relname AS \"relation\",\n",
    "    pg_size_pretty(pg_relation_size(C.oid)) AS \"size\"\n",
    "  FROM pg_class C\n",
    "  LEFT JOIN pg_namespace N ON (N.oid = C.relnamespace)\n",
    "  WHERE nspname NOT IN ('pg_catalog', 'information_schema')\n",
    "  ORDER BY pg_relation_size(C.oid) DESC\n",
    "  LIMIT 20;"
   ]
  },
  {
   "cell_type": "markdown",
   "metadata": {},
   "source": [
    "# Indexes"
   ]
  },
  {
   "cell_type": "markdown",
   "metadata": {},
   "source": [
    "## Index size and usage\n",
    "\n",
    "[Source: PostgreSQL wiki](https://wiki.postgresql.org/wiki/Disk_Usage)"
   ]
  },
  {
   "cell_type": "code",
   "execution_count": null,
   "metadata": {
    "collapsed": false
   },
   "outputs": [],
   "source": [
    "%%sql \n",
    "\n",
    "SELECT\n",
    "    defn,\n",
    "    c.reltuples AS num_rows,\n",
    "    pg_size_pretty(pg_relation_size(quote_ident(t.tablename)::text)) AS table_size,\n",
    "    pg_size_pretty(pg_relation_size(quote_ident(indexrelname)::text)) AS index_size,\n",
    "    idx_scan AS number_of_scans,\n",
    "    idx_tup_read AS tuples_read,\n",
    "    idx_tup_fetch AS tuples_fetched\n",
    "FROM pg_tables t\n",
    "LEFT OUTER JOIN pg_class c ON t.tablename=c.relname\n",
    "LEFT OUTER JOIN\n",
    "    ( SELECT c.relname AS ctablename, ipg.relname AS indexname, \n",
    "             x.indnatts AS number_of_columns, \n",
    "             idx_scan, idx_tup_read, idx_tup_fetch, \n",
    "             indexrelname, indisunique,\n",
    "             pg_get_indexdef(x.indexrelid) AS defn\n",
    "           FROM pg_index x\n",
    "           JOIN pg_class c ON c.oid = x.indrelid\n",
    "           JOIN pg_class ipg ON ipg.oid = x.indexrelid\n",
    "           JOIN pg_stat_all_indexes psai ON x.indexrelid = psai.indexrelid )\n",
    "    AS foo\n",
    "    ON t.tablename = foo.ctablename\n",
    "WHERE t.schemaname='public'\n",
    "ORDER BY t.tablename,2;"
   ]
  },
  {
   "cell_type": "markdown",
   "metadata": {},
   "source": [
    "These stats are since the last stat reset, which occured at:"
   ]
  },
  {
   "cell_type": "code",
   "execution_count": null,
   "metadata": {
    "collapsed": false
   },
   "outputs": [],
   "source": [
    "%sql select stats_reset from pg_stat_database where datname = 'data_store_api'"
   ]
  },
  {
   "cell_type": "markdown",
   "metadata": {},
   "source": [
    "## Duplicate indexes\n",
    "\n",
    "[Source: PostgreSQL wiki](https://wiki.postgresql.org/wiki/Disk_Usage)"
   ]
  },
  {
   "cell_type": "code",
   "execution_count": null,
   "metadata": {
    "collapsed": false
   },
   "outputs": [],
   "source": [
    "%%sql\n",
    "SELECT pg_size_pretty(SUM(pg_relation_size(idx))::BIGINT) AS SIZE,\n",
    "       (array_agg(idx))[1] AS idx1, (array_agg(idx))[2] AS idx2,\n",
    "       (array_agg(idx))[3] AS idx3, (array_agg(idx))[4] AS idx4\n",
    "FROM (\n",
    "    SELECT indexrelid::regclass AS idx, (indrelid::text ||E'\\n'|| indclass::text ||E'\\n'|| indkey::text ||E'\\n'||\n",
    "                                         COALESCE(indexprs::text,'')||E'\\n' || COALESCE(indpred::text,'')) AS KEY\n",
    "    FROM pg_index) sub\n",
    "GROUP BY KEY HAVING COUNT(*)>1\n",
    "ORDER BY SUM(pg_relation_size(idx)) DESC;"
   ]
  },
  {
   "cell_type": "markdown",
   "metadata": {},
   "source": [
    "## Index bloat\n",
    "\n",
    "Source: PGXperts\n",
    "\n",
    "Bloat is fixed with REINDEX."
   ]
  },
  {
   "cell_type": "code",
   "execution_count": null,
   "metadata": {
    "collapsed": false
   },
   "outputs": [],
   "source": [
    "result =! psql -H -f pgx_scripts/bloat/index_bloat_check.sql $DATABASE_URL\n",
    "HTML(result.s)"
   ]
  },
  {
   "cell_type": "markdown",
   "metadata": {},
   "source": [
    "## Duplicate indexes"
   ]
  },
  {
   "cell_type": "code",
   "execution_count": null,
   "metadata": {
    "collapsed": false
   },
   "outputs": [],
   "source": [
    "%%sql\n",
    "SELECT indrelid::regclass AS table_name\n",
    "     , array_to_string(array_agg(pg_get_indexdef(indexrelid::regclass)), chr(10)) AS indexes\n",
    "  FROM pg_index\n",
    " GROUP BY indrelid\n",
    "     , indkey\n",
    "HAVING COUNT(*) > 1;"
   ]
  },
  {
   "cell_type": "markdown",
   "metadata": {},
   "source": [
    "These \"duplicates\" seem to be OK\n",
    "\n",
    "https://www.postgresql.org/docs/9.4/static/indexes-opclass.html\n",
    "\n",
    "> Note that you should also create an index with the default operator class if you want queries involving ordinary <, <=, >, or >= comparisons to use an index. Such queries cannot use the xxx_pattern_ops operator classes. (Ordinary equality comparisons can use these operator classes, however.) It is possible to create multiple indexes on the same column with different operator classes. If you do use the C locale, you do not need the xxx_pattern_ops operator classes, because an index with the default operator class is usable for pattern-matching queries in the C locale."
   ]
  },
  {
   "cell_type": "code",
   "execution_count": null,
   "metadata": {
    "collapsed": false
   },
   "outputs": [],
   "source": [
    "%%sql\n",
    "SELECT name, source, setting\n",
    "FROM pg_settings\n",
    "WHERE name like 'lc_%'\n",
    "ORDER BY 1;"
   ]
  },
  {
   "cell_type": "code",
   "execution_count": null,
   "metadata": {
    "collapsed": false
   },
   "outputs": [],
   "source": [
    "%%sql\n",
    "-- check for matches on only the first column of the index\n",
    "-- requires some human eyeballing to verify\n",
    "\n",
    "SELECT indrelid::regclass AS table_name\n",
    "     , array_to_string(array_agg(pg_get_indexdef(indexrelid)), chr(10)) AS indexes\n",
    "  FROM pg_index\n",
    " GROUP BY indrelid\n",
    "     , indkey[0]\n",
    "HAVING COUNT(*) > 1;"
   ]
  },
  {
   "cell_type": "markdown",
   "metadata": {},
   "source": [
    "## Possibly duplicate indexes"
   ]
  },
  {
   "cell_type": "code",
   "execution_count": null,
   "metadata": {
    "collapsed": false
   },
   "outputs": [],
   "source": [
    "result =! psql -H -f pgx_scripts/indexes/duplicate_indexes_fuzzy.sql $DATABASE_URL\n",
    "HTML(result.s)"
   ]
  },
  {
   "cell_type": "markdown",
   "metadata": {},
   "source": [
    "## Needed indexes\n",
    "\n",
    "Checks for tables which are getting too much sequential scan activity and might need additional indexing.  Reports in four groups based on table size, number of scans, write activity, and number of existing indexes."
   ]
  },
  {
   "cell_type": "code",
   "execution_count": null,
   "metadata": {
    "collapsed": false
   },
   "outputs": [],
   "source": [
    "result =! psql -H -f pgx_scripts/indexes/needed_indexes.sql $DATABASE_URL\n",
    "HTML(result.s)"
   ]
  },
  {
   "cell_type": "markdown",
   "metadata": {},
   "source": [
    "### Foreign keys without index"
   ]
  },
  {
   "cell_type": "code",
   "execution_count": null,
   "metadata": {
    "collapsed": false
   },
   "outputs": [],
   "source": [
    "result =! psql -H -f pgx_scripts/indexes/fk_no_index.sql $DATABASE_URL\n",
    "HTML(result.s)"
   ]
  },
  {
   "cell_type": "markdown",
   "metadata": {},
   "source": [
    "# Tables"
   ]
  },
  {
   "cell_type": "markdown",
   "metadata": {},
   "source": [
    "## Table bloat"
   ]
  },
  {
   "cell_type": "code",
   "execution_count": null,
   "metadata": {
    "collapsed": false
   },
   "outputs": [],
   "source": [
    "result =! psql -H -f pgx_scripts/bloat/table_bloat_check.sql $DATABASE_URL\n",
    "HTML(result.s)"
   ]
  },
  {
   "cell_type": "code",
   "execution_count": null,
   "metadata": {
    "collapsed": true
   },
   "outputs": [],
   "source": []
  }
 ],
 "metadata": {
  "kernelspec": {
   "display_name": "Python 3",
   "language": "python",
   "name": "python3"
  },
  "language_info": {
   "codemirror_mode": {
    "name": "ipython",
    "version": 3
   },
   "file_extension": ".py",
   "mimetype": "text/x-python",
   "name": "python",
   "nbconvert_exporter": "python",
   "pygments_lexer": "ipython3",
   "version": "3.5.1"
  }
 },
 "nbformat": 4,
 "nbformat_minor": 2
}
